{
 "cells": [
  {
   "cell_type": "markdown",
   "metadata": {
    "id": "RsPJmlPZF3KC"
   },
   "source": [
    "## Exercise:\n",
    "\n",
    "- You have a list of strings that contain messy text data. Your task is to clean the text by performing the following operations using list comprehensions:\n",
    "\n",
    "1. Remove leading and trailing whitespace from each string.\n",
    "2. Convert all characters to lowercase.\n",
    "3. Remove any non-alphanumeric characters (except spaces).\n",
    "4. Replace multiple spaces with a single space."
   ]
  },
  {
   "cell_type": "code",
   "execution_count": 3,
   "metadata": {
    "id": "OKc-C_YpFtU0"
   },
   "outputs": [],
   "source": [
    "raw_data = [\n",
    "    \"  Hello, World!   \",\n",
    "    \"Python   is Great.   \",\n",
    "    \"Data-Science? Is Amazing!!  \",\n",
    "    \" Clean    Your  DATA!!!   \"\n",
    "]\n"
   ]
  },
  {
   "cell_type": "code",
   "execution_count": 5,
   "metadata": {},
   "outputs": [
    {
     "name": "stdout",
     "output_type": "stream",
     "text": [
      "['hello, world!', 'python   is great.', 'data-science? is amazing!!', 'clean    your  data!!!']\n",
      "['hello world', 'python is great', 'datascience is amazing', 'clean your data']\n"
     ]
    }
   ],
   "source": [
    "step1=[i.strip().lower() for i in raw_data]\n",
    "step2=[\" \".join((\"\".join([i if i.isalnum() or i== \" \" else \"\"for i in s])).split()) for s in step1]\n",
    "#step3=[\" \".join(i.split()) for i in step2]\n",
    "print(step1)\n",
    "print(step2)\n"
   ]
  },
  {
   "cell_type": "code",
   "execution_count": 7,
   "metadata": {},
   "outputs": [
    {
     "name": "stdout",
     "output_type": "stream",
     "text": [
      "['hello world', 'python   is great', 'datascience is amazing', 'clean    your  data']\n"
     ]
    },
    {
     "data": {
      "text/plain": [
       "['hello world', 'python is great', 'datascience is amazing', 'clean your data']"
      ]
     },
     "execution_count": 7,
     "metadata": {},
     "output_type": "execute_result"
    }
   ],
   "source": [
    "#with regular expresion\n",
    "import re\n",
    "raw_data = [\n",
    "    \"  Hello, World!   \",\n",
    "    \"Python   is Great.   \",\n",
    "    \"Data-Science? Is Amazing!!  \",\n",
    "    \" Clean    Your  DATA!!!   \"\n",
    "]\n",
    "step1=[ re.sub(r\"[^a-zA-Z0-9\\s]\",\"\",i.strip().lower()) for i in raw_data]\n",
    "print(step1)\n",
    "step2=[re.sub(r\"\\s+\",\" \",i) for i in step1]\n",
    "step2\n"
   ]
  },
  {
   "cell_type": "markdown",
   "metadata": {
    "id": "ma_fPPhUGIh7"
   },
   "source": [
    "## Goal:\n",
    "\n",
    "- Create a cleaned version of the raw_data list using list comprehensions. The expected output should be:"
   ]
  },
  {
   "cell_type": "code",
   "execution_count": 31,
   "metadata": {},
   "outputs": [
    {
     "name": "stdout",
     "output_type": "stream",
     "text": [
      "['hello world', 'python   is great', 'data-science is amazing', 'clean    your  data']\n"
     ]
    }
   ],
   "source": [
    "cleaned(raw_data)"
   ]
  },
  {
   "cell_type": "code",
   "execution_count": 2,
   "metadata": {
    "id": "hDg7Kx_RGGzJ"
   },
   "outputs": [],
   "source": [
    "cleaned_data = [\n",
    "    \"hello world\",\n",
    "    \"python is great\",\n",
    "    \"data science is amazing\",\n",
    "    \"clean your data\"\n",
    "]\n"
   ]
  },
  {
   "cell_type": "markdown",
   "metadata": {
    "id": "toqM-sngGXXG"
   },
   "source": [
    "## Exercise Set:\n",
    "\n",
    "- You have a list of strings that contain messy text data. Your task is to clean the text by performing the following operations:\n",
    "\n",
    "1. Remove leading and trailing whitespace from each string.\n",
    "2. Convert all characters to lowercase.\n",
    "3. Remove any non-alphanumeric characters (except spaces).\n",
    "4. Replace multiple spaces with a single space.\n"
   ]
  },
  {
   "cell_type": "code",
   "execution_count": 5,
   "metadata": {
    "id": "ulQwcbMJGPJM"
   },
   "outputs": [
    {
     "data": {
      "text/plain": [
       "['hello world',\n",
       " 'python is great',\n",
       " 'datascience is amazing',\n",
       " 'clean your data',\n",
       " 'extra spaces everywhere 123',\n",
       " 'mix3d numb3r5 and l3tt3rs']"
      ]
     },
     "execution_count": 5,
     "metadata": {},
     "output_type": "execute_result"
    }
   ],
   "source": [
    "raw_data = [\n",
    "    \"  Hello, World!   \",\n",
    "    \"Python   is Great.   \",\n",
    "    \"Data-Science? Is Amazing!!  \",\n",
    "    \" Clean    Your  DATA!!!   \",\n",
    "    \"EXtra     Spaces       Everywhere 123  \",\n",
    "    \"Mix3D      numb3r5 aND L3tt3rs!!!\"\n",
    "]\n",
    "step1=list(map(lambda x:x.strip().lower(),raw_data))\n",
    "step2=[\" \".join(\"\".join([j for j in i if j.isalnum() or j.isspace() ]).split()) for i in step1]\n",
    "step2\n"
   ]
  },
  {
   "cell_type": "markdown",
   "metadata": {
    "id": "Vx6KS9tdGfmt"
   },
   "source": [
    "## Goal:\n",
    "\n",
    "- Create a function clean_text that takes raw_data as input and returns a cleaned version of the list. The expected output should be:"
   ]
  },
  {
   "cell_type": "code",
   "execution_count": 5,
   "metadata": {
    "id": "_eswZSg2GdrV"
   },
   "outputs": [],
   "source": [
    "cleaned_data = [\n",
    "    \"hello world\",\n",
    "    \"python is great\",\n",
    "    \"data science is amazing\",\n",
    "    \"clean your data\",\n",
    "    \"extra spaces everywhere 123\",\n",
    "    \"mix3d numb3r5 and l3tt3rs\"\n",
    "]\n"
   ]
  },
  {
   "cell_type": "markdown",
   "metadata": {
    "id": "tqEwkQLjGosc"
   },
   "source": [
    "## Exercise 1: Squaring Numbers\n",
    "- Input :numbers = [1, 2, 3, 4, 5]\n",
    "- Output: squared_numbers = [1, 4, 9, 16, 25]\n",
    "\n"
   ]
  },
  {
   "cell_type": "code",
   "execution_count": 13,
   "metadata": {},
   "outputs": [
    {
     "data": {
      "text/plain": [
       "[1, 4, 9, 16, 25]"
      ]
     },
     "execution_count": 13,
     "metadata": {},
     "output_type": "execute_result"
    }
   ],
   "source": [
    "numbers = [1, 2, 3, 4, 5]\n",
    "squaring_numbers=[i*i for i in numbers]\n"
   ]
  },
  {
   "cell_type": "code",
   "execution_count": 9,
   "metadata": {},
   "outputs": [
    {
     "data": {
      "text/plain": [
       "[1, 4, 9, 16, 25]"
      ]
     },
     "execution_count": 9,
     "metadata": {},
     "output_type": "execute_result"
    }
   ],
   "source": [
    "numbers = [1, 2, 3, 4, 5]\n",
    "sq_num=list(map(lambda x:x*x,numbers))\n",
    "sq_num"
   ]
  },
  {
   "cell_type": "markdown",
   "metadata": {
    "id": "vlt0-jf_G23-"
   },
   "source": [
    "## Exercise 2: Filtering Even Numbers\n",
    "- Task: Given a list of numbers, create a new list containing only the even numbers."
   ]
  },
  {
   "cell_type": "markdown",
   "metadata": {
    "id": "Arjtv0Q8G7ee"
   },
   "source": [
    "- Input:\n",
    "- numbers = [1, 2, 3, 4, 5, 6, 7, 8, 9, 10]\n",
    "- Output:\n",
    "- even_numbers = [2, 4, 6, 8, 10]"
   ]
  },
  {
   "cell_type": "code",
   "execution_count": 25,
   "metadata": {},
   "outputs": [
    {
     "name": "stdout",
     "output_type": "stream",
     "text": [
      "[2, 4, 6, 8, 10]\n"
     ]
    }
   ],
   "source": [
    "numbers = [1, 2, 3, 4, 5, 6, 7, 8, 9, 10]\n",
    "even_numbers=list(filter(lambda x:x%2==0,numbers ))\n",
    "print(even_numbers)"
   ]
  },
  {
   "cell_type": "markdown",
   "metadata": {
    "id": "8Wj5dwB-HE5L"
   },
   "source": [
    "##Exercise 3: Extracting Initials\n",
    "-Task: Given a list of names, create a new list with the initials of each name.\n",
    "\n",
    "- Input:\n",
    "- names = [\"Alice Smith\", \"Bob Johnson\", \"Charlie Brown\"]\n",
    "- Output:\n",
    "- initials = [\"A.S.\", \"B.J.\", \"C.B.\"]"
   ]
  },
  {
   "cell_type": "code",
   "execution_count": 40,
   "metadata": {},
   "outputs": [
    {
     "data": {
      "text/plain": [
       "['A.S.', 'B.J.', 'C.B.']"
      ]
     },
     "execution_count": 40,
     "metadata": {},
     "output_type": "execute_result"
    }
   ],
   "source": [
    "names = [\"Alice Smith\", \"Bob Johnson\", \"Charlie Brown\"]\n",
    "initials=[\"\".join([j.replace(j[1:],\".\") for j in i.split()]) for i in names]\n",
    "initials"
   ]
  },
  {
   "cell_type": "markdown",
   "metadata": {
    "id": "Oqcxvo_mHTJC"
   },
   "source": [
    "## Exercise 4: Fahrenheit to Celsius\n",
    "- Task: Given a list of temperatures in Fahrenheit, create a new list with the temperatures converted to Celsius.\n",
    "\n",
    "- Input:\n",
    "fahrenheit = [32, 68, 100, 212]\n",
    "- Output:\n",
    "celsius = [0.0, 20.0, 37.77777777777778, 100.0]"
   ]
  },
  {
   "cell_type": "code",
   "execution_count": 7,
   "metadata": {},
   "outputs": [
    {
     "data": {
      "text/plain": [
       "[0.0, 20.0, 37.77777777777778, 100.0]"
      ]
     },
     "execution_count": 7,
     "metadata": {},
     "output_type": "execute_result"
    }
   ],
   "source": [
    "fahrenheit = [32, 68, 100, 212]\n",
    "celesios = list(map(lambda x:(x-32)/1.8,fahrenheit))\n",
    "celesios"
   ]
  },
  {
   "cell_type": "code",
   "execution_count": 11,
   "metadata": {},
   "outputs": [
    {
     "data": {
      "text/plain": [
       "[0.0, 20.0, 37.77777777777778, 100.0]"
      ]
     },
     "execution_count": 11,
     "metadata": {},
     "output_type": "execute_result"
    }
   ],
   "source": [
    "c1=[(i-32)/1.8 for i in fahrenheit]\n",
    "c1"
   ]
  },
  {
   "cell_type": "markdown",
   "metadata": {
    "id": "T-3LEJ2dHfGy"
   },
   "source": [
    "## Exercise 5: Flattening a List of Lists\n",
    "## Task: Given a list of lists, create a new flattened list containing all the elements.\n",
    "\n",
    "- Input:\n",
    "- list_of_lists = [[1, 2, 3], [4, 5], [6, 7, 8, 9]]\n",
    "- Output:\n",
    "\n",
    "- flattened_list = [1, 2, 3, 4, 5, 6, 7, 8, 9]"
   ]
  },
  {
   "cell_type": "code",
   "execution_count": 29,
   "metadata": {},
   "outputs": [
    {
     "data": {
      "text/plain": [
       "[1, 2, 3, 4, 5, 6, 7, 8, 9]"
      ]
     },
     "execution_count": 29,
     "metadata": {},
     "output_type": "execute_result"
    }
   ],
   "source": [
    "list_of_lists = [[1, 2, 3], [4, 5], [6, 7, 8, 9]]\n",
    "\n",
    "flattened_list =[] \n",
    "for i in list_of_lists:\n",
    "    flattened_list.extend(i)\n",
    "flattened_list"
   ]
  },
  {
   "cell_type": "markdown",
   "metadata": {
    "id": "JhPM7CyTHurI"
   },
   "source": [
    "## Exercise 7: Filtering Words by Length\n",
    "- Task: Given a list of words, create a new list containing only the words that are longer than 3 characters.\n",
    "\n",
    "- Input:\n",
    "words = [\"cat\", \"elephant\", \"dog\", \"tiger\"]\n",
    "- Output:\n",
    "long_words = [\"elephant\", \"tiger\"]"
   ]
  },
  {
   "cell_type": "code",
   "execution_count": 39,
   "metadata": {},
   "outputs": [
    {
     "data": {
      "text/plain": [
       "['elephant', 'tiger']"
      ]
     },
     "execution_count": 39,
     "metadata": {},
     "output_type": "execute_result"
    }
   ],
   "source": [
    "words = [\"cat\", \"elephant\", \"dog\", \"tiger\"]\n",
    "long_words = list(filter(lambda x:len(x)>3,words))\n",
    "long_words\n",
    "\n"
   ]
  },
  {
   "cell_type": "markdown",
   "metadata": {
    "id": "7vdAwO0vIPeo"
   },
   "source": [
    "## Exercise 8: Sum of a List\n",
    "- Task: Write a function sum_list that takes a list of numbers and returns the sum of those numbers."
   ]
  },
  {
   "cell_type": "markdown",
   "metadata": {
    "id": "SLQhUqbAIUFG"
   },
   "source": [
    "- Input:\n",
    "numbers = [1, 2, 3, 4, 5]\n",
    "- Output:\n",
    "sum_list(numbers)  # Output: 15"
   ]
  },
  {
   "cell_type": "code",
   "execution_count": 49,
   "metadata": {},
   "outputs": [
    {
     "data": {
      "text/plain": [
       "15"
      ]
     },
     "execution_count": 49,
     "metadata": {},
     "output_type": "execute_result"
    }
   ],
   "source": [
    "numbers = [1, 2, 3, 4, 5]\n",
    "def sums(x):\n",
    "    return sum(numbers)\n",
    "\n",
    "sums(numbers)"
   ]
  },
  {
   "cell_type": "markdown",
   "metadata": {
    "id": "42tFLkQLIbKQ"
   },
   "source": [
    "## Exercise 9: Count Occurrences\n",
    "- Task: Write a function count_occurrences that takes a list and an element, and returns the number of times the element appears in the list.\n",
    "\n",
    "- Input:\n",
    "elements = [1, 2, 2, 3, 4, 2, 5]\n",
    "element_to_count = 2\n",
    "- Output:\n",
    "count_occurrences(elements, element_to_count)  # Output: 3"
   ]
  },
  {
   "cell_type": "code",
   "execution_count": 53,
   "metadata": {},
   "outputs": [
    {
     "data": {
      "text/plain": [
       "3"
      ]
     },
     "execution_count": 53,
     "metadata": {},
     "output_type": "execute_result"
    }
   ],
   "source": [
    "elements = [1, 2, 2, 3, 4, 2, 5]\n",
    "def counter(x,y):\n",
    "    return x.count(y)\n",
    "counter(elements,2)"
   ]
  },
  {
   "cell_type": "markdown",
   "metadata": {
    "id": "PkJkpD9kInTQ"
   },
   "source": [
    "## Exercise 10: Remove Duplicates\n",
    "- Task: Write a function remove_duplicates that takes a list and returns a new list with duplicates removed, preserving the order of the first occurrence of each element.\n",
    "\n",
    "- Input:\n",
    "items = [1, 2, 2, 3, 4, 4, 5]\n",
    "- Output:\n",
    "remove_duplicates(items)  # Output: [1, 2, 3, 4, 5]"
   ]
  },
  {
   "cell_type": "code",
   "execution_count": 74,
   "metadata": {
    "id": "CIyVeSI8HQsK"
   },
   "outputs": [],
   "source": [
    "def uniq(x):\n",
    "    new=[]\n",
    "    for i in x:\n",
    "        if i not in new:\n",
    "            new.append(i)\n",
    "    return new"
   ]
  },
  {
   "cell_type": "code",
   "execution_count": 76,
   "metadata": {},
   "outputs": [
    {
     "data": {
      "text/plain": [
       "[1, 2, 3, 4, 5]"
      ]
     },
     "execution_count": 76,
     "metadata": {},
     "output_type": "execute_result"
    }
   ],
   "source": [
    "items = [1, 2, 2, 3, 4, 4, 5]\n",
    "uniq(items)"
   ]
  },
  {
   "cell_type": "code",
   "execution_count": null,
   "metadata": {},
   "outputs": [],
   "source": []
  },
  {
   "cell_type": "code",
   "execution_count": null,
   "metadata": {},
   "outputs": [],
   "source": []
  }
 ],
 "metadata": {
  "colab": {
   "provenance": []
  },
  "kernelspec": {
   "display_name": "Python 3 (ipykernel)",
   "language": "python",
   "name": "python3"
  },
  "language_info": {
   "codemirror_mode": {
    "name": "ipython",
    "version": 3
   },
   "file_extension": ".py",
   "mimetype": "text/x-python",
   "name": "python",
   "nbconvert_exporter": "python",
   "pygments_lexer": "ipython3",
   "version": "3.12.4"
  }
 },
 "nbformat": 4,
 "nbformat_minor": 4
}
